{
 "cells": [
  {
   "cell_type": "code",
   "execution_count": null,
   "metadata": {},
   "outputs": [],
   "source": [
    "import sys\n",
    "import os\n",
    "sys.path.append(os.path.abspath('../'))\n",
    "from discomat.cuds.cuds import Cuds\n",
    "from discomat.cuds.session import Session\n",
    "from discomat.visualisation.cuds_vis import gvis\n",
    "from discomat.ontology.namespaces import DOMEDS\n",
    "import csv"
   ]
  },
  {
   "cell_type": "markdown",
   "metadata": {},
   "source": [
    "In this exercise we're going to use the DOME dataset ontology to create a CUDS of data for DOME"
   ]
  },
  {
   "cell_type": "markdown",
   "metadata": {},
   "source": [
    "Here we'll use the package discomat to create triples of data using the DOME dataset ontology"
   ]
  },
  {
   "cell_type": "code",
   "execution_count": null,
   "metadata": {},
   "outputs": [],
   "source": [
    "ds_001 = Cuds(ontology_type=DOMEDS.data_set, description=\"Example of DOME4.0 dataset\")\n",
    "ds_001.add(DOMEDS.has_dataset_creator, \"KOK_FOONG_LEE\")\n",
    "ds_001.add(DOMEDS.has_dataset_license, \"licence1\")\n",
    "ds_001.add(DOMEDS.has_dataset_publisher, \"DOME4.0_CONSORTIUM\")\n",
    "ds_001.add(DOMEDS.has_dataset_topic, \"SEA_Vessels\")\n",
    "ds_001.add(DOMEDS.has_dataset_URL, \"https://sintef.sharepoint.com/teams/DOME4.0/Delte%20dokumenter/WP4/T4.1%20Example%20files/Showcase%20#1%20(CMCL)/ship.txt\")\n",
    "ds_001.add(DOMEDS.has_dataset_description, \"Ship location example data (for a given ship at a given time\")\n",
    "ds_001.add(DOMEDS.has_dataset_issued_date, \"2024-05-31\")\n",
    "ds_001.add(DOMEDS.has_dataset_semantic_keyword, \"https://schema.org/Vehicle\")\n",
    "ds_001.add(DOMEDS.has_syntactic_keyword, \"ship\")\n",
    "ds_001.add(DOMEDS.has_dataset_title, \"DATASET 001\")"
   ]
  },
  {
   "cell_type": "markdown",
   "metadata": {},
   "source": [
    "Here we can print our dataset"
   ]
  },
  {
   "cell_type": "code",
   "execution_count": null,
   "metadata": {},
   "outputs": [],
   "source": [
    "print(ds_001)"
   ]
  },
  {
   "cell_type": "markdown",
   "metadata": {},
   "source": [
    "Using the gvis function in discomat we can visualise our dataset"
   ]
  },
  {
   "cell_type": "code",
   "execution_count": null,
   "metadata": {},
   "outputs": [],
   "source": [
    "gvis(ds_001, \"ds_001.html\")"
   ]
  },
  {
   "cell_type": "markdown",
   "metadata": {},
   "source": [
    "Part 2"
   ]
  },
  {
   "cell_type": "markdown",
   "metadata": {},
   "source": [
    "In this part we will import data from a CSV file"
   ]
  },
  {
   "cell_type": "markdown",
   "metadata": {},
   "source": [
    "Initialize session"
   ]
  },
  {
   "cell_type": "code",
   "execution_count": null,
   "metadata": {},
   "outputs": [],
   "source": [
    "session = Session()"
   ]
  },
  {
   "cell_type": "markdown",
   "metadata": {},
   "source": [
    "Load dataset from CSV"
   ]
  },
  {
   "cell_type": "code",
   "execution_count": null,
   "metadata": {},
   "outputs": [],
   "source": [
    "with open('data.csv', mode='r') as file:\n",
    "    reader = csv.reader(file)\n",
    "    headers = next(reader)  # Read the headers\n",
    "\n",
    "    # Here we'll use list comprehension instead of creating each triple line by line\n",
    "\n",
    "    # Clean and map the headers to ontology fields\n",
    "    ontology_fields = [getattr(DOMEDS, header.strip()) for header in headers if header.strip()]\n",
    "\n",
    "    # Read the dataset rows\n",
    "    dataset = [tuple(row) for row in reader]"
   ]
  },
  {
   "cell_type": "code",
   "execution_count": null,
   "metadata": {},
   "outputs": [],
   "source": [
    "gall = []"
   ]
  },
  {
   "cell_type": "markdown",
   "metadata": {},
   "source": [
    "Loop through the dataset and create CUDS objects"
   ]
  },
  {
   "cell_type": "code",
   "execution_count": null,
   "metadata": {},
   "outputs": [],
   "source": [
    "for data in dataset:\n",
    "    ds_001 = Cuds(ontology_type=DOMEDS.data_set, description=\"Example of DOME4.0 dataset\")\n",
    "\n",
    "    # Use list comprehension to add each field to the CUDS object\n",
    "    [ds_001.add(field, value) for field, value in zip(ontology_fields, data)]\n",
    "    print(ds_001)"
   ]
  },
  {
   "cell_type": "code",
   "execution_count": null,
   "metadata": {},
   "outputs": [],
   "source": [
    "    # accumulate the current dataset graph to gall\n",
    "    gall += ds_001.graph"
   ]
  },
  {
   "cell_type": "markdown",
   "metadata": {},
   "source": [
    "Visualize the combined graph and export to HTML"
   ]
  },
  {
   "cell_type": "code",
   "execution_count": null,
   "metadata": {},
   "outputs": [],
   "source": [
    "gvis(gall, \"ds_002.html\")"
   ]
  },
  {
   "cell_type": "code",
   "execution_count": null,
   "outputs": [],
   "source": [],
   "metadata": {
    "collapsed": false
   }
  }
 ],
 "metadata": {
  "kernelspec": {
   "display_name": "Python 3",
   "language": "python",
   "name": "python3"
  },
  "language_info": {
   "codemirror_mode": {
    "name": "ipython",
    "version": 3
   },
   "file_extension": ".py",
   "mimetype": "text/x-python",
   "name": "python",
   "nbconvert_exporter": "python",
   "pygments_lexer": "ipython3",
   "version": "3.6.4"
  }
 },
 "nbformat": 4,
 "nbformat_minor": 2
}
