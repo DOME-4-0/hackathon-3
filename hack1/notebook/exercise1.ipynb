{
 "cells": [
  {
   "cell_type": "code",
   "execution_count": 1,
   "metadata": {
    "ExecuteTime": {
     "end_time": "2024-09-09T10:17:13.447259Z",
     "start_time": "2024-09-09T10:17:13.302272Z"
    }
   },
   "outputs": [],
   "source": [
    "import sys\n",
    "import os\n",
    "sys.path.append(os.path.abspath('../'))\n",
    "from discomat.cuds.cuds import Cuds\n",
    "from discomat.cuds.session import Session\n",
    "from discomat.visualisation.cuds_vis import gvis\n",
    "from discomat.ontology.namespaces import DOMEDS\n",
    "import csv"
   ]
  },
  {
   "cell_type": "markdown",
   "metadata": {},
   "source": [
    "In this exercise we're going to use the DOME dataset ontology to create a CUDS of data for DOME"
   ]
  },
  {
   "cell_type": "markdown",
   "metadata": {},
   "source": [
    "Here we'll use the package discomat to create triples of data using the DOME dataset ontology"
   ]
  },
  {
   "cell_type": "code",
   "execution_count": 2,
   "metadata": {
    "ExecuteTime": {
     "end_time": "2024-09-09T10:17:24.030641Z",
     "start_time": "2024-09-09T10:17:24.022255Z"
    }
   },
   "outputs": [],
   "source": [
    "ds_001 = Cuds(ontology_type=DOMEDS.data_set, description=\"Example of DOME4.0 dataset\")\n",
    "ds_001.add(DOMEDS.has_dataset_creator, \"KOK_FOONG_LEE\")\n",
    "ds_001.add(DOMEDS.has_dataset_license, \"licence1\")\n",
    "ds_001.add(DOMEDS.has_dataset_publisher, \"DOME4.0_CONSORTIUM\")\n",
    "ds_001.add(DOMEDS.has_dataset_topic, \"SEA_Vessels\")\n",
    "ds_001.add(DOMEDS.has_dataset_URL, \"https://sintef.sharepoint.com/teams/DOME4.0/Delte%20dokumenter/WP4/T4.1%20Example%20files/Showcase%20#1%20(CMCL)/ship.txt\")\n",
    "ds_001.add(DOMEDS.has_dataset_description, \"Ship location example data (for a given ship at a given time\")\n",
    "ds_001.add(DOMEDS.has_dataset_issued_date, \"2024-05-31\")\n",
    "ds_001.add(DOMEDS.has_dataset_semantic_keyword, \"https://schema.org/Vehicle\")\n",
    "ds_001.add(DOMEDS.has_syntactic_keyword, \"ship\")\n",
    "ds_001.add(DOMEDS.has_dataset_title, \"DATASET 001\")"
   ]
  },
  {
   "cell_type": "markdown",
   "metadata": {},
   "source": [
    "Here we can print our dataset"
   ]
  },
  {
   "cell_type": "code",
   "execution_count": 3,
   "metadata": {
    "ExecuteTime": {
     "end_time": "2024-09-09T10:17:29.616196Z",
     "start_time": "2024-09-09T10:17:29.613602Z"
    }
   },
   "outputs": [
    {
     "name": "stdout",
     "output_type": "stream",
     "text": [
      "Printing CUDS\n",
      "=============\n",
      "c.iri: https://www.ddmd.io/mio#cuds_iri_5f3c4107-9169-4e08-81f1-4ffc7abc68aa\n",
      "\n",
      "Namespace: http://www.ddmd.io/mio/cuds#\n",
      "  uuid: 5f3c4107-9169-4e08-81f1-4ffc7abc68aa\n",
      "  description: Example of DOME4.0 dataset\n",
      "  label: unit_define\n",
      "  type: http://dome40.eu/semantics/dome4.0_core_dataset#data_set\n",
      "  PID: http://www.ddmd.io/mio#cuds_pid_5f3c4107-9169-4e08-81f1-4ffc7abc68aa\n",
      "  CreationTime: 2024-09-09 11:17:24.022182\n",
      "  Session: None\n",
      "\n",
      "Namespace: http://dome40.eu/semantics/dome4.0_core_dataset#\n",
      "  has_dataset_creator: KOK_FOONG_LEE\n",
      "  has_dataset_license: licence1\n",
      "  has_dataset_publisher: DOME4.0_CONSORTIUM\n",
      "  has_dataset_topic: SEA_Vessels\n",
      "  has_dataset_URL: https://sintef.sharepoint.com/teams/DOME4.0/Delte%20dokumenter/WP4/T4.1%20Example%20files/Showcase%20#1%20(CMCL)/ship.txt\n",
      "  has_dataset_description: Ship location example data (for a given ship at a given time\n",
      "  has_dataset_issued_date: 2024-05-31\n",
      "  has_dataset_semantic_keyword: https://schema.org/Vehicle\n",
      "  has_syntactic_keyword: ship\n",
      "  has_dataset_title: DATASET 001\n",
      "\n"
     ]
    }
   ],
   "source": [
    "print(ds_001)"
   ]
  },
  {
   "cell_type": "markdown",
   "metadata": {},
   "source": [
    "Using the gvis function in discomat we can visualise our dataset"
   ]
  },
  {
   "cell_type": "code",
   "execution_count": null,
   "metadata": {},
   "outputs": [],
   "source": [
    "gvis(ds_001, \"ds_001.html\")"
   ]
  },
  {
   "cell_type": "markdown",
   "metadata": {},
   "source": [
    "Part 2"
   ]
  },
  {
   "cell_type": "markdown",
   "metadata": {},
   "source": [
    "In this part we will import data from a CSV file"
   ]
  },
  {
   "cell_type": "markdown",
   "metadata": {},
   "source": [
    "Initialize session"
   ]
  },
  {
   "cell_type": "code",
   "execution_count": null,
   "metadata": {},
   "outputs": [],
   "source": [
    "session = Session()"
   ]
  },
  {
   "cell_type": "markdown",
   "metadata": {},
   "source": [
    "Load dataset from CSV"
   ]
  },
  {
   "cell_type": "code",
   "execution_count": null,
   "metadata": {},
   "outputs": [],
   "source": [
    "with open('.csv', mode='r') as file:\n",
    "    reader = csv.reader(file)\n",
    "    headers = next(reader)  # Read the headers\n",
    "\n",
    "    # Here we'll use list comprehension instead of creating each triple line by line\n",
    "\n",
    "    # Clean and map the headers to ontology fields\n",
    "    ontology_fields = [getattr(DOMEDS, header.strip()) for header in headers if header.strip()]\n",
    "\n",
    "    # Read the dataset rows\n",
    "    dataset = [tuple(row) for row in reader]"
   ]
  },
  {
   "cell_type": "code",
   "execution_count": null,
   "metadata": {},
   "outputs": [],
   "source": [
    "gall = []"
   ]
  },
  {
   "cell_type": "markdown",
   "metadata": {},
   "source": [
    "Loop through the dataset and create CUDS objects"
   ]
  },
  {
   "cell_type": "code",
   "execution_count": null,
   "metadata": {},
   "outputs": [],
   "source": [
    "for data in dataset:\n",
    "    ds_001 = Cuds(ontology_type=DOMEDS.data_set, description=\"Example of DOME4.0 dataset\")\n",
    "\n",
    "    # Use list comprehension to add each field to the CUDS object\n",
    "    [ds_001.add(field, value) for field, value in zip(ontology_fields, data)]\n",
    "    print(ds_001)"
   ]
  },
  {
   "cell_type": "code",
   "execution_count": null,
   "metadata": {},
   "outputs": [],
   "source": [
    "    # accumulate the current dataset graph to gall\n",
    "    gall += ds_001.graph"
   ]
  },
  {
   "cell_type": "markdown",
   "metadata": {},
   "source": [
    "Visualize the combined graph and export to HTML"
   ]
  },
  {
   "cell_type": "code",
   "execution_count": null,
   "metadata": {},
   "outputs": [],
   "source": [
    "gvis(gall, \"ds_002.html\")"
   ]
  }
 ],
 "metadata": {
  "kernelspec": {
   "display_name": "Python 3",
   "language": "python",
   "name": "python3"
  },
  "language_info": {
   "codemirror_mode": {
    "name": "ipython",
    "version": 3
   },
   "file_extension": ".py",
   "mimetype": "text/x-python",
   "name": "python",
   "nbconvert_exporter": "python",
   "pygments_lexer": "ipython3",
   "version": "3.6.4"
  }
 },
 "nbformat": 4,
 "nbformat_minor": 2
}
